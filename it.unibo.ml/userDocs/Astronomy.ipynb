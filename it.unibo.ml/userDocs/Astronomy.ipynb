{
 "cells": [
  {
   "cell_type": "markdown",
   "metadata": {},
   "source": [
    "## First Picture of a Black Hole\n",
    "<a href=\"https://time.com/5566225/first-black-hole-picture-photo/\">https://time.com/5566225/first-black-hole-picture-photo/</a>\n",
    "\n",
    "Black hole at the heart of the Messier 87 (Virgo A - M87) galaxy, nearly 54 million light years from Earth. The picture reveals the black hole's event horizon, the swirl of gas and dust and stars and light itself, circling the gravitational drain, before they’re sucked inside never, ever to reemerge.\n",
    "\n",
    "### Our black hole\n",
    "The black hole at the center of our galaxy goes by the name Sagittarius A*. It has a mass equivalent to about 4.1 million of our suns.  Is a relatively quiet black hole, with an accretion disk — the ring of matter and energy that orbits the event horizon — that is relatively dim. The black hole still has the power to swallow stars, it’s just not swallowing many.\n",
    "\n",
    "### The M87  black hole\n",
    "The light from the M87 black hole has to travel for 60.000 years through its own galaxy, then for 55 million years across interstellar space. The black hole at the center of M87 has a mass equivalent to <b>6.5 billion</b> (10^9) suns, or 1.585 times bigger than our own black hole. But at 2,700 times the distance, it was even harder to see than Sagittarius A*. It has almost the size of our entire solar system, with jets that can penetrate its entire galaxy.\n",
    "\n",
    "### ETH (Event Horizon Telescope)\n",
    "A global web of eight radio telescopes located in six places (Chile, Mexico, Spain, Hawaii, Arizona and the Antarctic), the collective network makes up the EHT. "
   ]
  }
 ],
 "metadata": {
  "kernelspec": {
   "display_name": "Python 3",
   "language": "python",
   "name": "python3"
  },
  "language_info": {
   "codemirror_mode": {
    "name": "ipython",
    "version": 3
   },
   "file_extension": ".py",
   "mimetype": "text/x-python",
   "name": "python",
   "nbconvert_exporter": "python",
   "pygments_lexer": "ipython3",
   "version": "3.7.3"
  }
 },
 "nbformat": 4,
 "nbformat_minor": 2
}

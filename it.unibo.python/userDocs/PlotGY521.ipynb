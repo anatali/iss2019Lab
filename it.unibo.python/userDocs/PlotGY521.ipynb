{
 "cells": [
  {
   "cell_type": "markdown",
   "metadata": {},
   "source": [
    "### PLOT"
   ]
  },
  {
   "cell_type": "code",
   "execution_count": 1,
   "metadata": {},
   "outputs": [
    {
     "name": "stdout",
     "output_type": "stream",
     "text": [
      "connected to broker  localhost\n",
      "subscribing to unibo/qak/events\n",
      "collecting values; please wait ...\n",
      "msg(rotationCmd,event,source,none,rotationCmd(l),1)\n",
      "msg(rotationCmd,event,source,none,rotationCmd(r),1)\n",
      "msg(g521,event,rasp,none,g521(gyro,-1.84732824427,1.29007633588,0.389312977099,0.000),1)\n",
      "z= 0.389312977099 angle= 0.0 msgnum= 1\n",
      "msg(g521,event,rasp,none,g521(gyro,-1.13740458015,10.4427480916,105.816793893,0.039),2)\n",
      "z= 105.816793893 angle= 0.039 msgnum= 2\n",
      "msg(g521,event,rasp,none,g521(gyro,-6.87022900763,7.19083969466,127.870229008,10.621),3)\n",
      "z= 127.870229008 angle= 10.621 msgnum= 3\n",
      "msg(g521,event,rasp,none,g521(gyro,-6.52671755725,10.9541984733,141.290076336,23.408),4)\n",
      "z= 141.290076336 angle= 23.408 msgnum= 4\n",
      "msg(g521,event,rasp,none,g521(gyro,-2.81679389313,7.69465648855,148.091603053,37.537),5)\n",
      "z= 148.091603053 angle= 37.537 msgnum= 5\n",
      "msg(g521,event,rasp,none,g521(gyro,-6.30534351145,10.3664122137,151.083969466,52.346),6)\n",
      "z= 151.083969466 angle= 52.346 msgnum= 6\n",
      "msg(g521,event,rasp,none,g521(gyro,-4.96183206107,0.534351145038,53.5648854962,67.454),7)\n",
      "z= 53.5648854962 angle= 67.454 msgnum= 7\n",
      "msg(g521,event,rasp,none,g521(gyro,-4.09160305344,-0.236641221374,5.0,72.811),8)\n",
      "z= 5.0 angle= 72.811 msgnum= 8\n",
      "msg(g521,event,rasp,none,g521(gyro,-2.09923664122,-0.557251908397,0.12213740458,73.311),9)\n",
      "z= 0.12213740458 angle= 73.311 msgnum= 9\n",
      "msg(g521,event,rasp,none,g521(gyro,-2.13740458015,1.14503816794,0.381679389313,0.000),10)\n",
      "z= 0.381679389313 angle= 0.0 msgnum= 10\n",
      "msg(g521,event,rasp,none,g521(gyro,-1.74045801527,-7.16030534351,111.053435115,0.038),11)\n",
      "z= 111.053435115 angle= 0.038 msgnum= 11\n",
      "msg(g521,event,rasp,none,g521(gyro,4.16030534351,-9.27480916031,155.374045802,11.144),12)\n",
      "z= 155.374045802 angle= 11.144 msgnum= 12\n",
      "msg(g521,event,rasp,none,g521(gyro,4.80916030534,-11.7328244275,159.190839695,26.681),13)\n",
      "z= 159.190839695 angle= 26.681 msgnum= 13\n",
      "msg(g521,event,rasp,none,g521(gyro,2.12977099237,-12.6641221374,175.610687023,42.600),14)\n",
      "z= 175.610687023 angle= 42.6 msgnum= 14\n",
      "msg(g521,event,rasp,none,g521(gyro,-0.381679389313,-2.8320610687,173.20610687,60.161),15)\n",
      "z= 173.20610687 angle= 60.161 msgnum= 15\n",
      "msg(g521,event,rasp,none,g521(gyro,8.96946564885,-2.58015267176,63.213740458,77.482),16)\n",
      "z= 63.213740458 angle= 77.482 msgnum= 16\n",
      "msg(g521,event,rasp,none,g521(gyro,-2.45801526718,3.60305343511,7.73282442748,83.803),17)\n",
      "z= 7.73282442748 angle= 83.803 msgnum= 17\n",
      "msg(g521,event,rasp,none,g521(gyro,-1.29007633588,1.74809160305,1.69465648855,84.576),18)\n",
      "z= 1.69465648855 angle= 84.576 msgnum= 18\n",
      "msg(g521,event,rasp,none,g521(gyro,-1.28244274809,1.27480916031,1.11450381679,84.746),19)\n",
      "z= 1.11450381679 angle= 84.746 msgnum= 19\n",
      "msg(g521,event,rasp,none,g521(gyro,-2.57251908397,0.931297709924,0.36641221374,84.857),20)\n",
      "z= 0.36641221374 angle= 84.857 msgnum= 20\n",
      "msg(rotationCmd,event,source,none,rotationCmd(endofjob),1)\n"
     ]
    },
    {
     "data": {
      "text/plain": [
       "<Figure size 640x480 with 1 Axes>"
      ]
     },
     "metadata": {},
     "output_type": "display_data"
    },
    {
     "name": "stdout",
     "output_type": "stream",
     "text": [
      "msg(g521,event,rasp,none,g521(0,endofjob,0,0,0.000),21)\n",
      "bye\n"
     ]
    }
   ],
   "source": [
    "\"\"\"\n",
    "plotGY521.py\n",
    "Events include the angle \n",
    "msg(g521,event, gyroSender, none, g521(TYPE,X,Y,Z,ANGLE),MSGNUM)\n",
    "\"\"\"\n",
    "import time\n",
    "import paho.mqtt.client as paho\n",
    "import matplotlib.pyplot as plt\n",
    "\n",
    "brokerAddr=\"localhost\"\n",
    "duration = 30\n",
    "x        = []\n",
    "y        = []\n",
    "z        = []\n",
    "a        = []\n",
    "goon     = True\n",
    "msgnum   = 0\n",
    "\n",
    "def on_message(client, userdata, message) :   #define callback\n",
    "\tglobal msgnum, x,y,z, goon\n",
    "\tif not goon :\n",
    "\t\treturn\n",
    "\t#msg(androidSensor,event,android,none,androidSensor(TYPE,X,Y,Z),MSGNUM)\n",
    "    #msg(g521,event, gyroSender, none, g521(TYPE,X,Y,Z,ANGLE),MSGNUM)\n",
    "    #msg(rotationCmd,event,gyroSender,none,rotationCmd(CMD),MSGNUM)\n",
    "\tevMsg = str( message.payload.decode(\"utf-8\")  )\n",
    "\tprint( evMsg )\n",
    "\tmsgitems = evMsg.split(\",\")\n",
    "\tif msgitems[4].split('(')[1].split(')')[0] == \"endofjob\" :\n",
    "\t\tplt.plot(list(x), color='red')\n",
    "\t\tplt.plot(list(y), color='green')\n",
    "\t\tplt.plot(list(z), color='blue')\n",
    "\t\tplt.plot(list(a), color='black')\n",
    "\t\tplt.show()\n",
    "\t\tclient.disconnect()\n",
    "\t\treturn        \n",
    "\tx.append( float( msgitems[5] ) )\n",
    "\ty.append( float( msgitems[6] ) )\n",
    "\tvz = float( msgitems[7] )\n",
    "\tz.append( vz )\n",
    "\tangle = float( msgitems[8].split(')')[0] )\n",
    "\ta.append( angle )\n",
    "\tmsgnum = msgnum + 1\n",
    "\tprint( \"z=\", vz, \"angle=\" , angle, \"msgnum=\", msgnum )\n",
    "\n",
    "client= paho.Client(\"receiver\")      \n",
    "client.on_message=on_message            # Bind function to callback\n",
    "\n",
    "client.connect(brokerAddr)              #connect\n",
    "print(\"connected to broker \", brokerAddr)\n",
    "print(\"subscribing to unibo/qak/events\")\n",
    "client.subscribe(\"unibo/qak/events\")      #subscribe\n",
    "\n",
    "print(\"collecting values; please wait ...\" )\n",
    "msgnum   = 0\n",
    "client.loop_start()             #start loop to process received messages\n",
    "time.sleep(duration)\n",
    "client.disconnect()             #disconnect\n",
    "print(\"bye\")\n",
    "client.loop_stop()              #stop loop        \n"
   ]
  },
  {
   "cell_type": "code",
   "execution_count": null,
   "metadata": {},
   "outputs": [],
   "source": []
  }
 ],
 "metadata": {
  "kernelspec": {
   "display_name": "Python 3",
   "language": "python",
   "name": "python3"
  },
  "language_info": {
   "codemirror_mode": {
    "name": "ipython",
    "version": 3
   },
   "file_extension": ".py",
   "mimetype": "text/x-python",
   "name": "python",
   "nbconvert_exporter": "python",
   "pygments_lexer": "ipython3",
   "version": "3.7.3"
  }
 },
 "nbformat": 4,
 "nbformat_minor": 2
}

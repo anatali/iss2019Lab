{
 "cells": [
  {
   "cell_type": "markdown",
   "metadata": {},
   "source": [
    "### PLOT"
   ]
  },
  {
   "cell_type": "code",
   "execution_count": 54,
   "metadata": {},
   "outputs": [
    {
     "name": "stdout",
     "output_type": "stream",
     "text": [
      "connected to broker  localhost\n",
      "subscribing to unibo/qak/events\n",
      "collecting values; please wait ...\n",
      "msg(rotationCmd,event,source,none,rotationCmd(l),1)\n",
      "msg(g521,event,rasp,none,g521(gyro,-1.87786259542,1.32061068702,0.106870229008,0.0),1)\n",
      "z= 0.106870229008 angle= 0.0 msgnum= 1\n",
      "msg(g521,event,rasp,none,g521(gyro,-11.1450381679,19.2366412214,155.106870229,0.0106870229008),2)\n",
      "z= 155.106870229 angle= 0.0106870229008 msgnum= 2\n",
      "msg(g521,event,rasp,none,g521(gyro,-10.3816793893,15.6259541985,187.419847328,15.5213740458),3)\n",
      "z= 187.419847328 angle= 15.5213740458 msgnum= 3\n",
      "msg(g521,event,rasp,none,g521(gyro,-7.61832061069,11.1374045802,198.778625954,34.2633587786),4)\n",
      "z= 198.778625954 angle= 34.2633587786 msgnum= 4\n",
      "msg(g521,event,rasp,none,g521(gyro,-9.53435114504,17.2213740458,197.122137405,54.141221374),5)\n",
      "z= 197.122137405 angle= 54.141221374 msgnum= 5\n",
      "msg(g521,event,rasp,none,g521(gyro,-3.15267175573,24.6717557252,169.091603053,73.8534351145),6)\n",
      "z= 169.091603053 angle= 73.8534351145 msgnum= 6\n",
      "msg(g521,event,rasp,none,g521(gyro,-0.282442748092,-7.62595419847,-4.15267175573,90.7625954198),7)\n",
      "z= -4.15267175573 angle= 90.7625954198 msgnum= 7\n",
      "msg(rotationCmd,event,source,none,rotationCmd(r),1)\n",
      "msg(g521,event,rasp,none,g521(gyro,-1.74809160305,1.26717557252,0.282442748092,0.0),8)\n",
      "z= 0.282442748092 angle= 0.0 msgnum= 8\n",
      "msg(g521,event,rasp,none,g521(gyro,-5.89312977099,13.1374045802,-155.41221374,0.0),9)\n",
      "z= -155.41221374 angle= 0.0 msgnum= 9\n",
      "msg(g521,event,rasp,none,g521(gyro,4.41984732824,-4.63358778626,-184.328244275,15.541221374),10)\n",
      "z= -184.328244275 angle= 15.541221374 msgnum= 10\n",
      "msg(g521,event,rasp,none,g521(gyro,5.96183206107,-12.4198473282,-186.312977099,33.9740458015),11)\n",
      "z= -186.312977099 angle= 33.9740458015 msgnum= 11\n",
      "msg(g521,event,rasp,none,g521(gyro,5.04580152672,-9.8320610687,-186.34351145,52.6053435115),12)\n",
      "z= -186.34351145 angle= 52.6053435115 msgnum= 12\n",
      "msg(g521,event,rasp,none,g521(gyro,-1.03053435115,-14.4045801527,-164.732824427,71.2396946565),13)\n",
      "z= -164.732824427 angle= 71.2396946565 msgnum= 13\n",
      "msg(g521,event,rasp,none,g521(gyro,3.67938931298,-1.19847328244,0.0610687022901,87.7129770992),14)\n",
      "z= 0.0610687022901 angle= 87.7129770992 msgnum= 14\n",
      "msg(g521,event,rasp,none,g521(gyro,-2.27480916031,4.73282442748,5.38167938931,87.7129770992),15)\n",
      "z= 5.38167938931 angle= 87.7129770992 msgnum= 15\n",
      "msg(rotationCmd,event,source,none,rotationCmd(l),1)\n",
      "msg(g521,event,rasp,none,g521(gyro,-2.00763358779,1.18320610687,0.137404580153,0.0),16)\n",
      "z= 0.137404580153 angle= 0.0 msgnum= 16\n",
      "msg(g521,event,rasp,none,g521(gyro,-7.71755725191,-5.19083969466,148.618320611,0.0137404580153),17)\n",
      "z= 148.618320611 angle= 0.0137404580153 msgnum= 17\n",
      "msg(g521,event,rasp,none,g521(gyro,-14.4427480916,21.2824427481,191.297709924,14.8755725191),18)\n",
      "z= 191.297709924 angle= 14.8755725191 msgnum= 18\n",
      "msg(g521,event,rasp,none,g521(gyro,-8.48854961832,13.786259542,196.465648855,34.0053435115),19)\n",
      "z= 196.465648855 angle= 34.0053435115 msgnum= 19\n",
      "msg(g521,event,rasp,none,g521(gyro,-7.35877862595,13.3129770992,194.755725191,53.6519083969),20)\n",
      "z= 194.755725191 angle= 53.6519083969 msgnum= 20\n",
      "msg(g521,event,rasp,none,g521(gyro,-9.15267175573,8.56488549618,183.244274809,73.127480916),21)\n",
      "z= 183.244274809 angle= 73.127480916 msgnum= 21\n",
      "msg(g521,event,rasp,none,g521(gyro,-4.40458015267,3.84732824427,-13.9694656489,91.4519083969),22)\n",
      "z= -13.9694656489 angle= 91.4519083969 msgnum= 22\n",
      "msg(rotationCmd,event,source,none,rotationCmd(r),1)\n",
      "msg(rotationCmd,event,source,none,rotationCmd(endofjob),1)\n"
     ]
    },
    {
     "data": {
      "image/png": "[encoded data removed]",
      "text/plain": [
       "<Figure size 432x288 with 1 Axes>"
      ]
     },
     "metadata": {
      "needs_background": "light"
     },
     "output_type": "display_data"
    },
    {
     "name": "stdout",
     "output_type": "stream",
     "text": [
      "bye\n"
     ]
    }
   ],
   "source": [
    "\"\"\"\n",
    "plotGY521.py\n",
    "Events include the angle \n",
    "msg(g521,event, gyroSender, none, g521(TYPE,X,Y,Z,ANGLE),MSGNUM)\n",
    "\"\"\"\n",
    "import time\n",
    "import paho.mqtt.client as paho\n",
    "import matplotlib.pyplot as plt\n",
    "\n",
    "brokerAddr=\"localhost\"\n",
    "duration = 30\n",
    "x        = []\n",
    "y        = []\n",
    "z        = []\n",
    "a        = []\n",
    "goon     = True\n",
    "msgnum   = 0\n",
    "\n",
    "def on_message(client, userdata, message) :   #define callback\n",
    "\tglobal msgnum, x,y,z, goon\n",
    "\tif not goon :\n",
    "\t\treturn\n",
    "\t#msg(androidSensor,event,android,none,androidSensor(TYPE,X,Y,Z),MSGNUM)\n",
    "    #msg(g521,event, gyroSender, none, g521(TYPE,X,Y,Z,ANGLE),MSGNUM)\n",
    "    #msg(rotationCmd,event,gyroSender,none,rotationCmd(CMD),MSGNUM)\n",
    "\tevMsg = str( message.payload.decode(\"utf-8\")  )\n",
    "\tprint( evMsg )\n",
    "\tmsgitems = evMsg.split(\",\")\n",
    "\tif msgitems[4].split('(')[1].split(')')[0] == \"endofjob\" :\n",
    "\t\tplt.plot(list(x), color='red')\n",
    "\t\tplt.plot(list(y), color='green')\n",
    "\t\tplt.plot(list(z), color='blue')\n",
    "\t\tplt.plot(list(a), color='black')\n",
    "\t\tplt.show()\n",
    "\t\tclient.disconnect()\n",
    "\t\treturn        \n",
    "\tx.append( float( msgitems[5] ) )\n",
    "\ty.append( float( msgitems[6] ) )\n",
    "\tvz = float( msgitems[7] )\n",
    "\tz.append( vz )\n",
    "\tangle = float( msgitems[8].split(')')[0] )\n",
    "\ta.append( angle )\n",
    "\tmsgnum = msgnum + 1\n",
    "\tprint( \"z=\", vz, \"angle=\" , angle, \"msgnum=\", msgnum )\n",
    "\"\"\"    \n",
    "\tif angle > 88 :\n",
    "\t\tprint( \"angle=\" , angle, \"z=\", vz, \"msgnum=\", msgnum  )  \n",
    "\tif msgnum >= 30  :\n",
    "\t\tplt.plot(list(x), color='red')\n",
    "\t\tplt.plot(list(y), color='green')\n",
    "\t\tplt.plot(list(z), color='blue')\n",
    "\t\tplt.plot(list(a), color='black')\n",
    "\t\tplt.show()\n",
    "\t\tgoon = False\n",
    "\t\tclient.disconnect()\n",
    "\"\"\"    \n",
    "client= paho.Client(\"receiver\")      \n",
    "client.on_message=on_message            # Bind function to callback\n",
    "\n",
    "client.connect(brokerAddr)              #connect\n",
    "print(\"connected to broker \", brokerAddr)\n",
    "print(\"subscribing to unibo/qak/events\")\n",
    "client.subscribe(\"unibo/qak/events\")      #subscribe\n",
    "\n",
    "print(\"collecting values; please wait ...\" )\n",
    "msgnum   = 0\n",
    "client.loop_start()             #start loop to process received messages\n",
    "time.sleep(duration)\n",
    "client.disconnect()             #disconnect\n",
    "print(\"bye\")\n",
    "client.loop_stop()              #stop loop        \n"
   ]
  }
 ],
 "metadata": {
  "kernelspec": {
   "display_name": "Python 3",
   "language": "python",
   "name": "python3"
  },
  "language_info": {
   "codemirror_mode": {
    "name": "ipython",
    "version": 3
   },
   "file_extension": ".py",
   "mimetype": "text/x-python",
   "name": "python",
   "nbconvert_exporter": "python",
   "pygments_lexer": "ipython3",
   "version": "3.7.3"
  }
 },
 "nbformat": 4,
 "nbformat_minor": 2
}

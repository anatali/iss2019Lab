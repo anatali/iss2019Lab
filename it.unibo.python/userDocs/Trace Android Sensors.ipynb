{
 "cells": [
  {
   "cell_type": "markdown",
   "metadata": {},
   "source": [
    "# Goal: receive sensor data from the application PhonePi"
   ]
  },
  {
   "cell_type": "markdown",
   "metadata": {},
   "source": [
    "### STARTING\n",
    "\n",
    "See https://jupyter-notebook.readthedocs.io/en/stable/examples/Notebook/Notebook%20Basics.html\n",
    "\n",
    "See https://github.com/jupyter/jupyter/wiki/A-gallery-of-interesting-Jupyter-Notebooks\n",
    "\n",
    "See https://www.w3schools.com/python\n",
    "\n",
    "The application PhonePi See: https://play.google.com/store/apps/details?id=com.phonepi\n",
    "\n",
    "# HANDS ON  \n",
    "\n",
    "* title\n",
    "    * a\n",
    "    * b\n",
    "     * c\n",
    "\n",
    "pip3 install flask\n",
    "pip3 install flask_sockets\n",
    "pip install paho-mqtt\n",
    "\n",
    "RUN\n",
    "python PhonePiPython3.py\n",
    "\n",
    "$e^{i\\pi} + 1 = 0$"
   ]
  },
  {
   "cell_type": "markdown",
   "metadata": {},
   "source": [
    "# Zen of python"
   ]
  },
  {
   "cell_type": "code",
   "execution_count": null,
   "metadata": {},
   "outputs": [],
   "source": [
    "import this"
   ]
  },
  {
   "cell_type": "code",
   "execution_count": null,
   "metadata": {},
   "outputs": [],
   "source": [
    "import numpy             as np\n",
    "import matplotlib.pyplot as plt\n",
    "costs = [1.0,4.5,9.5,16.0]\n",
    "#plt.ylabel('some numbers')\n",
    "#plt.plot(costs)\n",
    "plt.plot([1.0, 2, 3, 4.0], costs)\n",
    "plt.show()"
   ]
  },
  {
   "cell_type": "markdown",
   "metadata": {},
   "source": [
    "## Sender"
   ]
  },
  {
   "cell_type": "code",
   "execution_count": null,
   "metadata": {},
   "outputs": [],
   "source": [
    "import time\n",
    "import paho.mqtt.client as paho\n",
    "broker=\"192.168.1.6\"\n",
    "client= paho.Client(\"mqttpythonsender\") #create client object client1.on_publish = on_publish #assign function to callback client1.connect(broker,port) #establish connection client1.publish(\"house/bulb1\",\"on\")\n",
    "print(\"connecting to broker \",broker)\n",
    "client.connect(broker)                       #connect\n",
    "time.sleep(1)\n",
    "print(\"publishing \")\n",
    "client.publish(\"unibo/livestream\",\"2\")         #publish\n",
    "time.sleep(1)\n",
    "print(\"publishing \")\n",
    "client.publish(\"unibo/livestream\",\"4\")         #publish\n",
    "time.sleep(1)\n",
    "print(\"publishing \")\n",
    "client.publish(\"unibo/livestream\",\"9\")         #publish\n",
    "time.sleep(1)\n",
    "client.disconnect()                        #disconnect\n",
    "print(\"bye\" )"
   ]
  },
  {
   "cell_type": "markdown",
   "metadata": {},
   "source": [
    "## mqttReceiver.py"
   ]
  },
  {
   "cell_type": "code",
   "execution_count": 23,
   "metadata": {},
   "outputs": [
    {
     "name": "stdout",
     "output_type": "stream",
     "text": [
      "connected to broker  localhost\n",
      "subscribing to unibo/qak/events\n",
      "first -158.95612387425535 rot 0 count 0\n",
      "rot: 0.0 count 0\n",
      "first -158.95626047803876 rot 0 count 1\n",
      "rot: 0.0 count 1\n",
      "first -158.95595994971526 rot 0 count 2\n",
      "rot: 0.0 count 2\n",
      "rot: 2.7320756686322056e-05 count 3\n",
      "rot: 2.7320756686322056e-05 count 4\n",
      "rot: 0.00015026416173213875 count 5\n",
      "rot: 0.0001775849184184608 count 6\n",
      "rot: 6.830189170159429e-05 count 7\n",
      "rot: 0.0003005283234926992 count 8\n",
      "rot: 4.098113501527223e-05 count 9\n",
      "rot: 7.149295608035743 count 10\n",
      "rot: 23.20748015808593 count 11\n",
      "rot: 39.844741806348125 count 12\n",
      "rot: 55.88257922286083 count 13\n",
      "rot: 73.56287905927567 count 14\n",
      "rot: 92.99159120999789 count 15\n",
      "first -158.95595994971526 rot 92.99159120999789 count 15\n"
     ]
    },
    {
     "data": {
      "image/png": "[encoded data removed]",
      "text/plain": [
       "<Figure size 640x480 with 1 Axes>"
      ]
     },
     "metadata": {},
     "output_type": "display_data"
    },
    {
     "name": "stdout",
     "output_type": "stream",
     "text": [
      "bye\n"
     ]
    }
   ],
   "source": [
    "import time\n",
    "import paho.mqtt.client as paho\n",
    "import matplotlib.pyplot as plt\n",
    "\n",
    "brokerAddr=\"localhost\"\n",
    "duration = 20\n",
    "data     = []\n",
    "counter  = 0\n",
    "firstVal = 0\n",
    "rot      = 0\n",
    "\n",
    "def on_message(client, userdata, message) :   #define callback\n",
    "    global counter, rot, data, firstVal   \n",
    "    if rot > 90  : \n",
    "        client.disconnect()             #disconnect\n",
    "        return    \n",
    "    msg      = str( message.payload.decode(\"utf-8\")  )\n",
    "    msgitems = msg.split(\",\")\n",
    "    value    = msgitems[5]\n",
    "    v       =  float( msgitems[5] )  \n",
    "    #print( v )\n",
    "    if counter <= 2 :\n",
    "        firstVal  = v\n",
    "        rot       = 0\n",
    "        print(\"first\",firstVal, \"rot\", rot, \"count\",counter)\n",
    "    rot  = abs( v -  firstVal )\n",
    "    print(\"rot:\", rot, \"count\",counter )\n",
    "    if rot < 90  :\n",
    "        counter = counter + 1\n",
    "        data.append( rot )  \n",
    "        if rot > 85  :\n",
    "        \tprint(\"WARNING ... rot=\", rot )\n",
    "    else :\n",
    "        data.append( rot ) \n",
    "        print(\"first\",firstVal, \"rot\", rot, \"count\",counter)\n",
    "        plt.plot(data)\n",
    "        plt.show()   \n",
    "    \n",
    "client= paho.Client(\"receiver\")      \n",
    "client.on_message=on_message            # Bind function to callback\n",
    "client.connect(brokerAddr)              #connect\n",
    "print(\"connected to broker \", brokerAddr)\n",
    "print(\"subscribing to unibo/qak/events\")\n",
    "client.subscribe(\"unibo/qak/events\")      #subscribe\n",
    "client.loop_start()             #start loop to process received messages\n",
    "time.sleep(duration)\n",
    "client.disconnect()             #disconnect\n",
    "print(\"bye\")\n",
    "client.loop_stop()              #stop loop \n",
    "\n",
    "   "
   ]
  },
  {
   "cell_type": "markdown",
   "metadata": {},
   "source": [
    "## mqttPlotQakEvents.py"
   ]
  },
  {
   "cell_type": "code",
   "execution_count": null,
   "metadata": {},
   "outputs": [],
   "source": [
    "import time\n",
    "import paho.mqtt.client as paho\n",
    "import matplotlib.pyplot as plt\n",
    "\n",
    "brokerAddr=\"localhost\"\n",
    "duration = 20\n",
    "data     = []\n",
    "counter  = 0 \n",
    "def on_message(client, userdata, message) :   #define callback\n",
    "\tglobal counter,  data\n",
    "\t#msg(androidSensor,event,android,none,androidSensor(TYPE,X,Y,Z),MSGNUM)\n",
    "\tevMsg = str( message.payload.decode(\"utf-8\")  )\n",
    "\t#print(\"evMsg=\", evMsg )\n",
    "\tmsgitems = evMsg.split(\",\")\n",
    "\tv        =  float( msgitems[5] ) #5 => X (AZIMUTH for rotation)\n",
    "\t#print(\"v=\", v )\n",
    "\tif counter\t< 20  :\n",
    "\t\tcounter = counter + 1\n",
    "\t\tdata.append( v )\n",
    "\telse  :\n",
    "\t\tplt.plot(data)\n",
    "\t\tplt.show()\n",
    "\t\tdata = []\n",
    "\t\tcounter = 0       \n",
    " \t\n",
    "    \n",
    "client= paho.Client(\"receiver\")      \n",
    "client.on_message=on_message            # Bind function to callback\n",
    "client.connect(brokerAddr)              #connect\n",
    "print(\"connected to broker \", brokerAddr)\n",
    "print(\"subscribing to unibo/qak/events\")\n",
    "client.subscribe(\"unibo/qak/events\")      #subscribe\n",
    "client.loop_start()             #start loop to process received messages\n",
    "time.sleep(duration)\n",
    "client.disconnect()             #disconnect\n",
    "print(\"bye\")\n",
    "client.loop_stop()              #stop loop        \n"
   ]
  },
  {
   "cell_type": "code",
   "execution_count": 19,
   "metadata": {},
   "outputs": [
    {
     "name": "stdout",
     "output_type": "stream",
     "text": [
      "connected to broker  localhost\n",
      "subscribing to unibo/qak/events\n",
      "startTime= 1566144460.7233396\n",
      "v= 0.00164794921875 angle= 0.003305778736830689 elapsed= 2.005995512008667 da= 0.003305778736830689\n",
      "v= -4.57763671875e-05 angle= 0.003321068037621444 elapsed= 0.3339998722076416 da= 1.5289300790755078e-05\n",
      "v= -4.57763671875e-05 angle= 0.003323173674289137 elapsed= 0.045998334884643555 da= 2.105636667693034e-06\n",
      "v= -0.0002593994140625 angle= 0.003397621476324275 elapsed= 0.2870006561279297 da= 7.444780203513801e-05\n",
      "v= 0.0001678466796875 angle= 0.003405342584301252 elapsed= 0.04600095748901367 da= 7.721107976976782e-06\n",
      "v= -0.0004730224609375 angle= 0.003544410807080567 elapsed= 0.29399919509887695 da= 0.00013906822277931497\n",
      "v= 0.001220703125 angle= 0.003955787047743797 elapsed= 0.33699941635131836 da= 0.0004113762406632304\n",
      "v= -0.0013275146484375 angle= 0.00401552657422144 elapsed= 0.04500102996826172 da= 5.973952647764236e-05\n",
      "v= 0.0001678466796875 angle= 0.004062691594299395 elapsed= 0.28100061416625977 da= 4.716502007795498e-05\n",
      "v= -4.57763671875e-05 angle= 0.004064797230967088 elapsed= 0.045998334884643555 da= 2.105636667693034e-06\n",
      "v= -0.0004730224609375 angle= 0.004205286222713767 elapsed= 0.29700279235839844 da= 0.00014048899174667895\n",
      "v= -4.57763671875e-05 angle= 0.004212334639305482 elapsed= 0.1539750099182129 da= 7.048416591715068e-06\n",
      "v= -0.316864013671875 angle= 0.019432943419815274 elapsed= 0.0480351448059082 da= 0.015220608780509792\n",
      "v= -1.387237548828125 angle= 0.4314288396963093 elapsed= 0.29699015617370605 da= 0.411995896276494\n",
      "v= -1.4750213623046875 angle= 0.5051935527044407 elapsed= 0.05000925064086914 da= 0.07376471300813137\n",
      "v= -1.41876220703125 angle= 0.8938876175270707 elapsed= 0.27396702766418457 da= 0.38869406482263\n",
      "v= -1.46478271484375 angle= 1.4095463089215627 elapsed= 0.3520376682281494 da= 0.515658691394492\n",
      "v= -1.4639434814453125 angle= 1.563252025644033 elapsed= 0.10499429702758789 da= 0.15370571672247024\n",
      "v= -0.2223663330078125 angle= 1.614840138649015 elapsed= 0.2319960594177246 da= 0.051588113004982006\n",
      "v= 0.00335693359375 angle= 1.6159411138542055 elapsed= 0.3279705047607422 da= 0.0011009752051904798\n",
      "v= 0.0001678466796875 angle= 1.61594917011098 elapsed= 0.04799771308898926 da= 8.056256774580106e-06\n",
      "v= -0.0009002685546875 angle= 1.6162165935966186 elapsed= 0.29704856872558594 da= 0.00026742348563857377\n",
      "v= -0.00079345703125 angle= 1.6163450991589343 elapsed= 0.1619565486907959 da= 0.000128505562315695\n",
      "v= -0.000152587890625 angle= 1.6163696705771144 elapsed= 0.16103124618530273 da= 2.4571418180130422e-05\n",
      "v= -0.000579833984375 angle= 1.6164392453356413 elapsed= 0.11999082565307617 da= 6.957475852686912e-05\n",
      "v= -0.000579833984375 angle= 1.6165737531991908 elapsed= 0.23197650909423828 da= 0.0001345078635495156\n",
      "v= 0.0005950927734375 angle= 1.616779652718833 elapsed= 0.3459956645965576 da= 0.0002058995196421165\n",
      "v= 0.0001678466796875 angle= 1.6167974449781468 elapsed= 0.1060030460357666 da= 1.7792259313864633e-05\n",
      "v= 0.001220703125 angle= 1.617089193998254 elapsed= 0.23900079727172852 da= 0.0002917490201070905\n"
     ]
    },
    {
     "data": {
      "image/png": "[encoded data removed]",
      "text/plain": [
       "<Figure size 640x480 with 1 Axes>"
      ]
     },
     "metadata": {},
     "output_type": "display_data"
    },
    {
     "name": "stdout",
     "output_type": "stream",
     "text": [
      "bye\n"
     ]
    }
   ],
   "source": [
    "import time\n",
    "import paho.mqtt.client as paho\n",
    "import matplotlib.pyplot as plt\n",
    "\n",
    "brokerAddr=\"localhost\"\n",
    "duration = 15\n",
    "x        = []\n",
    "y        = []\n",
    "z        = []\n",
    "r        = []\n",
    "counter  = 0 \n",
    "maxnum   = 30\n",
    "endOfJob = False\n",
    "dt       = 0\n",
    "startTime = 0\n",
    "angle     = 0.0\n",
    "\n",
    "def on_message(client, userdata, message) :   #define callback\n",
    "\tglobal counter, maxnum, endOfJob, x, y, z, r, startTime, angle\n",
    "\tif endOfJob  :\n",
    " \t\treturn\n",
    "\tnow     = time.time() \n",
    "\telapsed = now-startTime\n",
    "\t#print( \"now=\" , now, \"elapsed=\",  elapsed)\n",
    "\tstartTime = now\n",
    "\tcounter = counter + 1\n",
    "\t#msg(androidSensor,event,android,none,androidSensor(TYPE,X,Y,Z),MSGNUM)\n",
    "\tevMsg = str( message.payload.decode(\"utf-8\")  )\n",
    "\t#print(\"evMsg=\", evMsg )\n",
    "\tmsgitems = evMsg.split(\",\")\n",
    "\tx.append( float( msgitems[5] ) )\n",
    "\tv = float( msgitems[6] )\n",
    "\ty.append( v )\n",
    "\tv = float( msgitems[7].split(')')[0] )\n",
    "\tz.append( v )\n",
    "\t\n",
    "\tda    = abs(v) * elapsed\n",
    "\tangle = angle + da\n",
    "\tprint(\"v=\", v, \"angle=\", angle, \"elapsed=\",  elapsed, \"da=\", da ) \n",
    "\tr.append( angle )\n",
    "\t\n",
    "\tif counter\t> maxnum  :\n",
    "\t\tplt.plot(x, color='red')\n",
    "\t\tplt.plot(y, color='green')\n",
    "\t\tplt.plot(z, color='blue')\n",
    "\t\tplt.plot(r, color='black')\n",
    "\t\tplt.show()\n",
    "\t\tendOfJob = True  \t\t \t\n",
    "    \n",
    "plt.style.use(\"classic\")\n",
    "client= paho.Client(\"receiver\")      \n",
    "client.on_message=on_message            # Bind function to callback\n",
    "client.connect(brokerAddr)              #connect\n",
    "print(\"connected to broker \", brokerAddr)\n",
    "print(\"subscribing to unibo/qak/events\")\n",
    "client.subscribe(\"unibo/qak/events\")      #subscribe\n",
    "startTime     = time.time() \n",
    "#print( \"startTime=\" , time.localtime( startTime ) )\n",
    "print( \"startTime=\" , startTime )\n",
    "client.loop_start()             #start loop to process received messages\n",
    "time.sleep(duration)\n",
    "client.disconnect()             #disconnect\n",
    "print(\"bye\")\n",
    "client.loop_stop()              #stop loop        \n",
    "     \n"
   ]
  },
  {
   "cell_type": "code",
   "execution_count": null,
   "metadata": {},
   "outputs": [],
   "source": []
  },
  {
   "cell_type": "code",
   "execution_count": null,
   "metadata": {},
   "outputs": [],
   "source": []
  }
 ],
 "metadata": {
  "kernelspec": {
   "display_name": "Python 3",
   "language": "python",
   "name": "python3"
  },
  "language_info": {
   "codemirror_mode": {
    "name": "ipython",
    "version": 3
   },
   "file_extension": ".py",
   "mimetype": "text/x-python",
   "name": "python",
   "nbconvert_exporter": "python",
   "pygments_lexer": "ipython3",
   "version": "3.7.3"
  }
 },
 "nbformat": 4,
 "nbformat_minor": 2
}

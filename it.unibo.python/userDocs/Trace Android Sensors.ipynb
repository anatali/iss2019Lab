{
 "cells": [
  {
   "cell_type": "markdown",
   "metadata": {},
   "source": [
    "# Goal: receive sensor data from the application PhonePi"
   ]
  },
  {
   "cell_type": "markdown",
   "metadata": {},
   "source": [
    "### STARTING\n",
    "\n",
    "See https://jupyter-notebook.readthedocs.io/en/stable/examples/Notebook/Notebook%20Basics.html\n",
    "\n",
    "See https://github.com/jupyter/jupyter/wiki/A-gallery-of-interesting-Jupyter-Notebooks\n",
    "\n",
    "See https://www.w3schools.com/python\n",
    "\n",
    "The application PhonePi See: https://play.google.com/store/apps/details?id=com.phonepi\n",
    "\n",
    "# HANDS ON  \n",
    "\n",
    "* title\n",
    "    * a\n",
    "    * b\n",
    "     * c\n",
    "\n",
    "pip3 install flask\n",
    "pip3 install flask_sockets\n",
    "pip install paho-mqtt\n",
    "\n",
    "RUN\n",
    "python PhonePiPython3.py\n",
    "\n",
    "$e^{i\\pi} + 1 = 0$"
   ]
  },
  {
   "cell_type": "markdown",
   "metadata": {},
   "source": [
    "# Zen of python"
   ]
  },
  {
   "cell_type": "code",
   "execution_count": null,
   "metadata": {},
   "outputs": [],
   "source": [
    "import this"
   ]
  },
  {
   "cell_type": "code",
   "execution_count": null,
   "metadata": {},
   "outputs": [],
   "source": [
    "import numpy             as np\n",
    "import matplotlib.pyplot as plt\n",
    "costs = [1.0,4.5,9.5,16.0]\n",
    "#plt.ylabel('some numbers')\n",
    "#plt.plot(costs)\n",
    "plt.plot([1.0, 2, 3, 4.0], costs)\n",
    "plt.show()"
   ]
  },
  {
   "cell_type": "markdown",
   "metadata": {},
   "source": [
    "## Sender"
   ]
  },
  {
   "cell_type": "code",
   "execution_count": null,
   "metadata": {},
   "outputs": [],
   "source": [
    "import time\n",
    "import paho.mqtt.client as paho\n",
    "broker=\"192.168.1.6\"\n",
    "client= paho.Client(\"mqttpythonsender\") #create client object client1.on_publish = on_publish #assign function to callback client1.connect(broker,port) #establish connection client1.publish(\"house/bulb1\",\"on\")\n",
    "print(\"connecting to broker \",broker)\n",
    "client.connect(broker)                       #connect\n",
    "time.sleep(1)\n",
    "print(\"publishing \")\n",
    "client.publish(\"unibo/livestream\",\"2\")         #publish\n",
    "time.sleep(1)\n",
    "print(\"publishing \")\n",
    "client.publish(\"unibo/livestream\",\"4\")         #publish\n",
    "time.sleep(1)\n",
    "print(\"publishing \")\n",
    "client.publish(\"unibo/livestream\",\"9\")         #publish\n",
    "time.sleep(1)\n",
    "client.disconnect()                        #disconnect\n",
    "print(\"bye\" )"
   ]
  },
  {
   "cell_type": "markdown",
   "metadata": {},
   "source": [
    "## mqttReceiver.py"
   ]
  },
  {
   "cell_type": "code",
   "execution_count": null,
   "metadata": {},
   "outputs": [],
   "source": [
    "import time\n",
    "import paho.mqtt.client as paho\n",
    "import matplotlib.pyplot as plt\n",
    "\n",
    "brokerAddr=\"localhost\"\n",
    "duration = 20\n",
    "data     = []\n",
    "counter  = 0\n",
    "firstVal = 0\n",
    "rot      = 0\n",
    "\n",
    "def on_message(client, userdata, message) :   #define callback\n",
    "    global counter, rot, data, firstVal   \n",
    "    if rot > 90  : \n",
    "        client.disconnect()             #disconnect\n",
    "        return    \n",
    "    msg      = str( message.payload.decode(\"utf-8\")  )\n",
    "    msgitems = msg.split(\",\")\n",
    "    value    = msgitems[5]\n",
    "    v       =  float( msgitems[5] )  \n",
    "    #print( v )\n",
    "    if counter <= 2 :\n",
    "        firstVal  = v\n",
    "        rot       = 0\n",
    "        print(\"first\",firstVal, \"rot\", rot, \"count\",counter)\n",
    "    rot  = abs( v -  firstVal )\n",
    "    print(\"rot:\", rot, \"count\",counter )\n",
    "    if rot < 90  :\n",
    "        counter = counter + 1\n",
    "        data.append( rot )  \n",
    "        if rot > 85  :\n",
    "        \tprint(\"WARNING ... rot=\", rot )\n",
    "    else :\n",
    "        data.append( rot ) \n",
    "        print(\"first\",firstVal, \"rot\", rot, \"count\",counter)\n",
    "        plt.plot(data)\n",
    "        plt.show()   \n",
    "    \n",
    "client= paho.Client(\"receiver\")      \n",
    "client.on_message=on_message            # Bind function to callback\n",
    "client.connect(brokerAddr)              #connect\n",
    "print(\"connected to broker \", brokerAddr)\n",
    "print(\"subscribing to unibo/qak/events\")\n",
    "client.subscribe(\"unibo/qak/events\")      #subscribe\n",
    "client.loop_start()             #start loop to process received messages\n",
    "time.sleep(duration)\n",
    "client.disconnect()             #disconnect\n",
    "print(\"bye\")\n",
    "client.loop_stop()              #stop loop \n",
    "\n",
    "   "
   ]
  },
  {
   "cell_type": "markdown",
   "metadata": {},
   "source": [
    "## mqttPlotQakEvents.py"
   ]
  },
  {
   "cell_type": "code",
   "execution_count": 16,
   "metadata": {},
   "outputs": [
    {
     "name": "stdout",
     "output_type": "stream",
     "text": [
      "connected to broker  localhost\n",
      "subscribing to unibo/qak/events\n",
      "collecting values; please wait ...\n",
      "evMsg= msg(g521,event,rasp,none,g521(gyro,-2.02290076336,1.50381679389,0.0458015267176),1) msgnum= 0\n",
      "evMsg= msg(g521,event,rasp,none,g521(gyro,-1.71755725191,1.19083969466,0.0916030534351),2) msgnum= 1\n",
      "evMsg= msg(g521,event,rasp,none,g521(gyro,-1.87022900763,1.18320610687,0.0534351145038),3) msgnum= 2\n",
      "evMsg= msg(g521,event,rasp,none,g521(gyro,-3.86259541985,1.59541984733,0.0763358778626),4) msgnum= 3\n",
      "evMsg= msg(g521,event,rasp,none,g521(gyro,-1.65648854962,1.25954198473,0.0534351145038),5) msgnum= 4\n",
      "evMsg= msg(g521,event,rasp,none,g521(gyro,-1.71755725191,1.49618320611,0.114503816794),6) msgnum= 5\n",
      "evMsg= msg(g521,event,rasp,none,g521(gyro,-1.80152671756,1.3358778626,0.221374045802),7) msgnum= 6\n",
      "evMsg= msg(g521,event,rasp,none,g521(gyro,-1.83969465649,1.38167938931,0.152671755725),8) msgnum= 7\n",
      "evMsg= msg(g521,event,rasp,none,g521(gyro,-3.87786259542,1.32824427481,0.137404580153),9) msgnum= 8\n",
      "evMsg= msg(g521,event,rasp,none,g521(gyro,-0.106870229008,1.25954198473,0.160305343511),10) msgnum= 9\n",
      "evMsg= msg(g521,event,rasp,none,g521(gyro,-1.77099236641,1.41221374046,1.90076335878),11) msgnum= 10\n",
      "evMsg= msg(g521,event,rasp,none,g521(gyro,-1.88549618321,1.32824427481,0.0763358778626),12) msgnum= 11\n",
      "evMsg= msg(g521,event,rasp,none,g521(gyro,-1.9465648855,1.32824427481,-0.00763358778626),13) msgnum= 12\n",
      "evMsg= msg(g521,event,rasp,none,g521(gyro,-1.85496183206,1.42748091603,0.160305343511),14) msgnum= 13\n",
      "evMsg= msg(g521,event,rasp,none,g521(gyro,-1.84732824427,1.45038167939,0.0992366412214),15) msgnum= 14\n",
      "evMsg= msg(g521,event,rasp,none,g521(gyro,-3.80916030534,1.38167938931,-1.88549618321),16) msgnum= 15\n",
      "evMsg= msg(g521,event,rasp,none,g521(gyro,-0.0229007633588,1.30534351145,0.206106870229),17) msgnum= 16\n",
      "evMsg= msg(g521,event,rasp,none,g521(gyro,-1.99236641221,1.38167938931,0.0458015267176),18) msgnum= 17\n",
      "evMsg= msg(g521,event,rasp,none,g521(gyro,-1.8320610687,1.26717557252,-1.9465648855),19) msgnum= 18\n",
      "evMsg= msg(g521,event,rasp,none,g521(gyro,-1.64885496183,1.37404580153,0.175572519084),20) msgnum= 19\n",
      "evMsg= msg(g521,event,rasp,none,g521(gyro,-1.8320610687,1.29007633588,0.0916030534351),21) msgnum= 20\n",
      "evMsg= msg(g521,event,rasp,none,g521(gyro,-1.90076335878,1.36641221374,0.0839694656489),22) msgnum= 21\n",
      "evMsg= msg(g521,event,rasp,none,g521(gyro,-3.90839694656,1.46564885496,0.137404580153),23) msgnum= 22\n",
      "evMsg= msg(g521,event,rasp,none,g521(gyro,-1.77099236641,1.25190839695,-0.0152671755725),24) msgnum= 23\n",
      "evMsg= msg(g521,event,rasp,none,g521(gyro,-1.70229007634,1.24427480916,0.0839694656489),25) msgnum= 24\n",
      "evMsg= msg(g521,event,rasp,none,g521(gyro,-1.8320610687,1.43511450382,0.0687022900763),26) msgnum= 25\n",
      "evMsg= msg(g521,event,rasp,none,g521(gyro,-1.79389312977,1.27480916031,0.0916030534351),27) msgnum= 26\n",
      "evMsg= msg(g521,event,rasp,none,g521(gyro,-2.11450381679,1.37404580153,0.12213740458),28) msgnum= 27\n",
      "evMsg= msg(g521,event,rasp,none,g521(gyro,-0.0229007633588,1.28244274809,0.129770992366),29) msgnum= 28\n",
      "evMsg= msg(g521,event,rasp,none,g521(gyro,-1.84732824427,1.43511450382,0.0992366412214),30) msgnum= 29\n",
      "evMsg= msg(g521,event,rasp,none,g521(gyro,-1.80152671756,1.51908396947,-1.9465648855),31) msgnum= 30\n",
      "evMsg= msg(g521,event,rasp,none,g521(gyro,-1.80916030534,1.26717557252,-1.78625954198),32) msgnum= 31\n",
      "evMsg= msg(g521,event,rasp,none,g521(gyro,-1.80916030534,1.19083969466,0.129770992366),33) msgnum= 32\n",
      "evMsg= msg(g521,event,rasp,none,g521(gyro,-0.0381679389313,1.32824427481,0.267175572519),34) msgnum= 33\n",
      "evMsg= msg(g521,event,rasp,none,g521(gyro,-1.73282442748,1.48854961832,-1.9465648855),35) msgnum= 34\n",
      "evMsg= msg(g521,event,rasp,none,g521(gyro,-1.80152671756,1.37404580153,0.0839694656489),36) msgnum= 35\n"
     ]
    },
    {
     "data": {
      "image/png": "[encoded data removed]",
      "text/plain": [
       "<Figure size 432x288 with 1 Axes>"
      ]
     },
     "metadata": {
      "needs_background": "light"
     },
     "output_type": "display_data"
    },
    {
     "name": "stdout",
     "output_type": "stream",
     "text": [
      "bye\n"
     ]
    }
   ],
   "source": [
    "import time\n",
    "import paho.mqtt.client as paho\n",
    "import matplotlib.pyplot as plt\n",
    "\n",
    "brokerAddr=\"localhost\"\n",
    "duration = 20\n",
    "x        = []\n",
    "y        = []\n",
    "z        = []\n",
    "goon     = True\n",
    "msgnum   = 0 \n",
    "def on_message(client, userdata, message) :   #define callback\n",
    "\tglobal msgnum,  x,y,z, goon\n",
    "\tif not goon :\n",
    "\t\treturn\n",
    "\t#msg(androidSensor,event,android,none,androidSensor(TYPE,X,Y,Z),MSGNUM)\n",
    "    #msg(g521,event, gyroSender, none, g521(TYPE,X,Y,Z),MSGNUM)\n",
    "\tevMsg = str( message.payload.decode(\"utf-8\")  )\n",
    "\tmsgitems = evMsg.split(\",\")\n",
    "\tif msgnum < 35  :\n",
    "\t\tprint(\"evMsg=\", evMsg, \"msgnum=\", msgnum )\n",
    "\t\tmsgnum = msgnum + 1\n",
    "\t\tx.append( float( msgitems[5] ) )\n",
    "\t\ty.append( float( msgitems[6] ) )\n",
    "\t\tvz = float( msgitems[7].split(')')[0] )\n",
    "\t\tz.append( vz )\n",
    "\telse  :\n",
    "\t\tprint(\"evMsg=\", evMsg, \"msgnum=\", msgnum )\n",
    "\t\tplt.plot(list(x), color='red')\n",
    "\t\tplt.plot(list(y), color='green')\n",
    "\t\tplt.plot(list(z), color='blue')\n",
    "\t\tplt.show()\n",
    "\t\tgoon = False\n",
    "\t\tclient.disconnect()\n",
    "    \n",
    "client= paho.Client(\"receiver\")      \n",
    "client.on_message=on_message            # Bind function to callback\n",
    "\n",
    "client.connect(brokerAddr)              #connect\n",
    "print(\"connected to broker \", brokerAddr)\n",
    "print(\"subscribing to unibo/qak/events\")\n",
    "client.subscribe(\"unibo/qak/events\")      #subscribe\n",
    "\n",
    "print(\"collecting values; please wait ...\" )\n",
    "client.loop_start()             #start loop to process received messages\n",
    "time.sleep(duration)\n",
    "client.disconnect()             #disconnect\n",
    "print(\"bye\")\n",
    "client.loop_stop()              #stop loop        \n"
   ]
  },
  {
   "cell_type": "markdown",
   "metadata": {},
   "source": [
    "### gyro.py"
   ]
  },
  {
   "cell_type": "code",
   "execution_count": null,
   "metadata": {
    "scrolled": false
   },
   "outputs": [],
   "source": [
    "import time\n",
    "import paho.mqtt.client as paho\n",
    "import matplotlib.pyplot as plt\n",
    "\n",
    "brokerAddr=\"localhost\"\n",
    "duration  = 15\n",
    "x         = []\n",
    "y         = []\n",
    "z         = []\n",
    "r         = []\n",
    "counter   = 0 \n",
    "goon      = True\n",
    "dt        = 0\n",
    "startTime = 0\n",
    "angle     = 0.0\n",
    "\n",
    "def on_message(client, userdata, message) :   #define callback\n",
    "\tglobal counter,  goon, x, y, z, r, startTime, angle\n",
    "\tnow     = time.time() \n",
    "\telapsed = now-startTime\n",
    "\t#print( \"now=\" , now, \"elapsed=\",  elapsed)\n",
    "\tstartTime = now\n",
    "\tcounter = counter + 1\n",
    "\t#msg(androidSensor,event,android,none,androidSensor(TYPE,X,Y,Z),MSGNUM)\n",
    "\tevMsg = str( message.payload.decode(\"utf-8\")  )\n",
    "\t#print(\"evMsg=\", evMsg )\n",
    "\tmsgitems = evMsg.split(\",\")\n",
    "\tx.append( float( msgitems[5] ) )\n",
    "\ty.append( float( msgitems[6] ) )\n",
    "\tvz = float( msgitems[7].split(')')[0] )\n",
    "\tz.append( vz )\n",
    "\t\n",
    "\tda    = abs(vz) * elapsed\n",
    "\tangle = angle + da\n",
    "\tr.append( angle )\n",
    "\tprint(\"vz=\", (\"%.3f\" % vz), \"angle=\", (\"%.3f\" % angle), \"counter=\", counter)\n",
    "\t#print(\"elapsed=\", (\"%.2f\" % elapsed), \"da=\", (\"%.2f\" % da) ) \t\n",
    "\tif angle > 90.0 and goon :\n",
    "\t\tplt.plot(x, color='red')\n",
    "\t\tplt.plot(y, color='green')\n",
    "\t\tplt.plot(z, color='blue')\n",
    "\t\tplt.plot(r, color='black')\n",
    "\t\tplt.show()\n",
    "\t\tgoon = False\n",
    "\t\tclient.disconnect()\n",
    "     \n",
    "plt.style.use(\"classic\")\n",
    "client= paho.Client(\"receiver\")      \n",
    "client.on_message=on_message            # Bind function to callback\n",
    "client.connect(brokerAddr)              #connect\n",
    "print(\"connected to broker \", brokerAddr)\n",
    "print(\"subscribing to unibo/qak/events\")\n",
    "client.subscribe(\"unibo/qak/events\")      #subscribe\n",
    "startTime     = time.time() \n",
    "#print( \"startTime=\" , ti\n",
    "print( \"startTime=\" , startTime )\n",
    "client.loop_start()             #start loop to process received messages\n",
    "time.sleep(duration)\n",
    "client.disconnect()             #disconnect\n",
    "print(\"bye\")\n",
    "client.loop_stop()              #stop loop        \n",
    "     \n"
   ]
  },
  {
   "cell_type": "code",
   "execution_count": null,
   "metadata": {},
   "outputs": [],
   "source": []
  }
 ],
 "metadata": {
  "kernelspec": {
   "display_name": "Python 3",
   "language": "python",
   "name": "python3"
  },
  "language_info": {
   "codemirror_mode": {
    "name": "ipython",
    "version": 3
   },
   "file_extension": ".py",
   "mimetype": "text/x-python",
   "name": "python",
   "nbconvert_exporter": "python",
   "pygments_lexer": "ipython3",
   "version": "3.7.3"
  }
 },
 "nbformat": 4,
 "nbformat_minor": 2
}

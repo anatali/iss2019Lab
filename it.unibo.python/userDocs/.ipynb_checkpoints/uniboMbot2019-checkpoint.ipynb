{
 "cells": [
  {
   "cell_type": "markdown",
   "metadata": {},
   "source": [
    "# <a name=\"Arduino\">Arduino</a> \n",
    "File <b>uniboControl.ino</b> in project <i>it.unibo.eclipse.qak.robot</i>\n",
    "\n",
    "#### Parameters\n",
    "<pre>\n",
    "float rotLeftTime  = 0.58;\n",
    "float rotRightTime = 0.58;\n",
    "float rotStepTime  = 0.058;\n",
    "</pre>\n",
    "\n",
    "The commands <tt>c(l|r)FloatNum</tt> can be used to tune these rotation values. \n",
    "However the modifications are not permanent.\n",
    "\n",
    "####  Robot-move Commands:\n",
    "<pre>\n",
    "w (119) | s(115) | a(97) | d(100) | h(104) \n",
    "l(108)  | r(114) |\n",
    "z(122)  | x(120) |\n",
    "f(102)\n",
    "</pre>\n",
    "\n",
    "Handled by the function <tt>remoteCmdExecutor()</tt>\n",
    "\n",
    "####  Loop\n",
    "<pre>\n",
    "void loop(){\n",
    "    remoteCmdExecutor();\n",
    "    lookAtSonar();\n",
    "    lineFollow();\n",
    "}\n",
    "</pre>\n"
   ]
  },
  {
   "cell_type": "markdown",
   "metadata": {},
   "source": [
    "# Python\n",
    "\n",
    "<br/> \n",
    " \n",
    "<center>\n",
    "<table  style=\"width:98%\">\n",
    "  <tr style=\"border: 1px solid black\">\n",
    "        <td style=\"width:45%; text-align: left\">\n",
    "File <a href=\"RobotUsingGY521.ipynb#robotCmdExecpy\">robotCmdExec.py</a> in  project <i>it.unibo.eclipse.qak.robotMinds19</i>       \n",
    "        </td>\n",
    "        <td style=\"text-align: left\">           \n",
    "            It is used by <a href=\"../it.unibo.eclipse.qak.robotMinds19/resources/itunibo\\robotMbot\\mbotSupport.kt\" target=\"code\">mbotSupport.kt</a> to execute the commands <tt>r|l</tt> that rotate the robot of <tt>90°</tt> and the commands <tt>z|x</tt> that rotate the robot of a small step (<tt>rotStepTime</tt> in <a href=\"#Arduino\">Arduino</a>).\n",
    "            <br/><br/>\n",
    "            See <a href=\"RobotUsingGY521.ipynb#rotate90\">rotate90</a>.\n",
    "        </td>\n",
    "    </tr>  \n",
    "\n",
    "\n",
    " \n",
    "</table>   \n",
    "</center>\n",
    " \n"
   ]
  }
 ],
 "metadata": {
  "kernelspec": {
   "display_name": "Python 3",
   "language": "python",
   "name": "python3"
  },
  "language_info": {
   "codemirror_mode": {
    "name": "ipython",
    "version": 3
   },
   "file_extension": ".py",
   "mimetype": "text/x-python",
   "name": "python",
   "nbconvert_exporter": "python",
   "pygments_lexer": "ipython3",
   "version": "3.7.3"
  }
 },
 "nbformat": 4,
 "nbformat_minor": 2
}

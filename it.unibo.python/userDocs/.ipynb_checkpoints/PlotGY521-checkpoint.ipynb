{
 "cells": [
  {
   "cell_type": "code",
   "execution_count": null,
   "metadata": {},
   "outputs": [],
   "source": [
    "import time\n",
    "import paho.mqtt.client as paho\n",
    "import matplotlib.pyplot as plt\n",
    "\n",
    "brokerAddr=\"localhost\"\n",
    "duration = 10\n",
    "x        = []\n",
    "y        = []\n",
    "z        = []\n",
    "goon     = True\n",
    "msgnum   = 0 \n",
    "def on_message(client, userdata, message) :   #define callback\n",
    "\tglobal msgnum, x,y,z, goon\n",
    "\tif not goon :\n",
    "\t\treturn\n",
    "\tmsgnum = msgnum + 1\n",
    "\t#msg(androidSensor,event,android,none,androidSensor(TYPE,X,Y,Z),MSGNUM)\n",
    "\t#msg(g521Sensor,event, gyroSender, none, g521Sensor(TYPE,X,Y,Z),MSGNUM)\n",
    "\tevMsg = str( message.payload.decode(\"utf-8\")  )\n",
    "\t#print(evMsg, \"msgnum=\", msgnum )\n",
    "\tmsgitems = evMsg.split(\",\")\n",
    "\t#if msgnum < 28 :\n",
    "\tx.append( float( msgitems[5] ) )\n",
    "\ty.append( float( msgitems[6] ) )\n",
    "\tvz = float( msgitems[7].split(')')[0] )\n",
    "\tz.append( vz )\n",
    "\tprint(evMsg, \"msgnum=\", msgnum )\n",
    "# if msgnum >= 22 :\n",
    "#\t\tprint(\"DONE\", \"msgnum=\", msgnum )\n",
    "\tplt.plot(list(x), color='red')\n",
    "\tplt.plot(list(y), color='green')\n",
    "\tplt.plot(list(z), color='blue')\n",
    "\tplt.show()\n",
    "#\t\tgoon = False\n",
    "\t\t#client.disconnect()\n",
    "    \n",
    "client= paho.Client(\"receiver\")      \n",
    "client.on_message=on_message            # Bind function to callback\n",
    "client.connect(brokerAddr)              #connect\n",
    "print(\"connected to broker \", brokerAddr)\n",
    "print(\"subscribing to unibo/qak/events\")\n",
    "client.subscribe(\"unibo/qak/events\")      #subscribe\n",
    "client.loop_start()             #start loop to process received messages\n",
    "time.sleep(duration)\n",
    "client.disconnect()             #disconnect\n",
    "print(\"bye\")\n",
    "client.loop_stop()              #stop loop    "
   ]
  },
  {
   "cell_type": "code",
   "execution_count": 30,
   "metadata": {},
   "outputs": [
    {
     "name": "stdout",
     "output_type": "stream",
     "text": [
      "[1, 2, 3, 4, 5, 6, 7, 8, 9, 10, 11, 12, 13, 14, 15, 16, 17, 18, 19, 20, 21, 22, 23, 24]\n"
     ]
    }
   ],
   "source": [
    "x        = []\n",
    "for i in range(1, 25) :\n",
    "    x.append( i )\n",
    "print( x  )   "
   ]
  }
 ],
 "metadata": {
  "kernelspec": {
   "display_name": "Python 3",
   "language": "python",
   "name": "python3"
  },
  "language_info": {
   "codemirror_mode": {
    "name": "ipython",
    "version": 3
   },
   "file_extension": ".py",
   "mimetype": "text/x-python",
   "name": "python",
   "nbconvert_exporter": "python",
   "pygments_lexer": "ipython3",
   "version": "3.7.3"
  }
 },
 "nbformat": 4,
 "nbformat_minor": 2
}

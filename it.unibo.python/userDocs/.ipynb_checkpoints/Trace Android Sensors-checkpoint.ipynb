{
 "cells": [
  {
   "cell_type": "markdown",
   "metadata": {},
   "source": [
    "# Goal: receive sensor data from the application PhonePi"
   ]
  },
  {
   "cell_type": "markdown",
   "metadata": {},
   "source": [
    "### STARTING\n",
    "\n",
    "See https://jupyter-notebook.readthedocs.io/en/stable/examples/Notebook/Notebook%20Basics.html\n",
    "\n",
    "See https://github.com/jupyter/jupyter/wiki/A-gallery-of-interesting-Jupyter-Notebooks\n",
    "\n",
    "See https://www.w3schools.com/python\n",
    "\n",
    "The application PhonePi See: https://play.google.com/store/apps/details?id=com.phonepi\n",
    "\n",
    "# HANDS ON  \n",
    "\n",
    "* title\n",
    "    * a\n",
    "    * b\n",
    "     * c\n",
    "\n",
    "pip3 install flask\n",
    "pip3 install flask_sockets\n",
    "pip install paho-mqtt\n",
    "\n",
    "RUN\n",
    "python PhonePiPython3.py\n",
    "\n",
    "$e^{i\\pi} + 1 = 0$"
   ]
  },
  {
   "cell_type": "markdown",
   "metadata": {},
   "source": [
    "# Zen of python"
   ]
  },
  {
   "cell_type": "code",
   "execution_count": null,
   "metadata": {},
   "outputs": [],
   "source": [
    "import this"
   ]
  },
  {
   "cell_type": "code",
   "execution_count": null,
   "metadata": {},
   "outputs": [],
   "source": [
    "import numpy             as np\n",
    "import matplotlib.pyplot as plt\n",
    "costs = [1.0,4.5,9.5,16.0]\n",
    "#plt.ylabel('some numbers')\n",
    "#plt.plot(costs)\n",
    "plt.plot([1.0, 2, 3, 4.0], costs)\n",
    "plt.show()"
   ]
  },
  {
   "cell_type": "markdown",
   "metadata": {},
   "source": [
    "## Sender"
   ]
  },
  {
   "cell_type": "code",
   "execution_count": null,
   "metadata": {},
   "outputs": [],
   "source": [
    "import time\n",
    "import paho.mqtt.client as paho\n",
    "broker=\"192.168.1.6\"\n",
    "client= paho.Client(\"mqttpythonsender\") #create client object client1.on_publish = on_publish #assign function to callback client1.connect(broker,port) #establish connection client1.publish(\"house/bulb1\",\"on\")\n",
    "print(\"connecting to broker \",broker)\n",
    "client.connect(broker)                       #connect\n",
    "time.sleep(1)\n",
    "print(\"publishing \")\n",
    "client.publish(\"unibo/livestream\",\"2\")         #publish\n",
    "time.sleep(1)\n",
    "print(\"publishing \")\n",
    "client.publish(\"unibo/livestream\",\"4\")         #publish\n",
    "time.sleep(1)\n",
    "print(\"publishing \")\n",
    "client.publish(\"unibo/livestream\",\"9\")         #publish\n",
    "time.sleep(1)\n",
    "client.disconnect()                        #disconnect\n",
    "print(\"bye\" )"
   ]
  },
  {
   "cell_type": "markdown",
   "metadata": {},
   "source": [
    "## mqttReceiver.py"
   ]
  },
  {
   "cell_type": "code",
   "execution_count": 3,
   "metadata": {},
   "outputs": [
    {
     "name": "stdout",
     "output_type": "stream",
     "text": [
      "connected to broker  localhost\n",
      "subscribing to unibo/qak/events\n",
      "first -176.9753650180429 rot 0 count 0\n",
      "first -176.9753650180429 rot 0 count 1\n",
      "first -176.97558358409634 rot 0 count 2\n",
      "WARNING ... rot= 86.0515111264288\n",
      "WARNING ... rot= 88.65011806786269\n",
      "first -176.97558358409634 rot 90.92310257080538 count 36\n"
     ]
    },
    {
     "data": {
      "image/png": "[encoded data removed]",
      "text/plain": [
       "<Figure size 432x288 with 1 Axes>"
      ]
     },
     "metadata": {
      "needs_background": "light"
     },
     "output_type": "display_data"
    },
    {
     "name": "stdout",
     "output_type": "stream",
     "text": [
      "bye\n"
     ]
    }
   ],
   "source": [
    "import time\n",
    "import paho.mqtt.client as paho\n",
    "import matplotlib.pyplot as plt\n",
    "\n",
    "brokerAddr=\"localhost\"\n",
    "duration = 20\n",
    "data     = []\n",
    "counter  = 0\n",
    "firstVal = 0\n",
    "rot      = 0\n",
    "\n",
    "def on_message(client, userdata, message) :   #define callback\n",
    "    global counter, rot, data, firstVal   \n",
    "    if rot > 90  : \n",
    "        client.disconnect()             #disconnect\n",
    "        return    \n",
    "    msg      = str( message.payload.decode(\"utf-8\")  )\n",
    "    msgitems = msg.split(\",\")\n",
    "    value    = msgitems[5]\n",
    "    v       =  float( msgitems[5] )  \n",
    "    #print( v )\n",
    "    if counter <= 2 :\n",
    "        firstVal  = v\n",
    "        rot       = 0\n",
    "        print(\"first\",firstVal, \"rot\", rot, \"count\",counter)\n",
    "    rot  = abs( v -  firstVal )\n",
    "    #print(\"rot:\", rot )\n",
    "    if rot < 90  :\n",
    "        counter = counter + 1\n",
    "        data.append( rot )  \n",
    "        if rot > 85  :\n",
    "        \tprint(\"WARNING ... rot=\", rot )\n",
    "    else :\n",
    "        print(\"first\",firstVal, \"rot\", rot, \"count\",counter)\n",
    "        plt.plot(data)\n",
    "        plt.show()   \n",
    "    \n",
    "client= paho.Client(\"receiver\")      \n",
    "client.on_message=on_message            # Bind function to callback\n",
    "client.connect(brokerAddr)              #connect\n",
    "print(\"connected to broker \", brokerAddr)\n",
    "print(\"subscribing to unibo/qak/events\")\n",
    "client.subscribe(\"unibo/qak/events\")      #subscribe\n",
    "client.loop_start()             #start loop to process received messages\n",
    "time.sleep(duration)\n",
    "client.disconnect()             #disconnect\n",
    "print(\"bye\")\n",
    "client.loop_stop()              #stop loop \n",
    "\n",
    "   "
   ]
  },
  {
   "cell_type": "markdown",
   "metadata": {},
   "source": [
    "## mqttPlotQakEvents.py"
   ]
  },
  {
   "cell_type": "code",
   "execution_count": 8,
   "metadata": {},
   "outputs": [
    {
     "name": "stdout",
     "output_type": "stream",
     "text": [
      "connected to broker  192.168.1.6\n",
      "subscribing to unibo/qak/events\n"
     ]
    },
    {
     "data": {
      "image/png": "[encoded data removed]",
      "text/plain": [
       "<Figure size 432x288 with 1 Axes>"
      ]
     },
     "metadata": {
      "needs_background": "light"
     },
     "output_type": "display_data"
    },
    {
     "data": {
      "image/png": "[encoded data removed]",
      "text/plain": [
       "<Figure size 432x288 with 1 Axes>"
      ]
     },
     "metadata": {
      "needs_background": "light"
     },
     "output_type": "display_data"
    },
    {
     "name": "stdout",
     "output_type": "stream",
     "text": [
      "bye\n"
     ]
    }
   ],
   "source": [
    "import time\n",
    "import paho.mqtt.client as paho\n",
    "import matplotlib.pyplot as plt\n",
    "\n",
    "brokerAddr=\"192.168.1.6\"\n",
    "duration = 20\n",
    "data     = []\n",
    "counter  = 0 \n",
    "def on_message(client, userdata, message) :   #define callback\n",
    "\tglobal counter,  data\n",
    "\t#msg(androidSensor,event,android,none,androidSensor(TYPE,X,Y,Z),MSGNUM)\n",
    "\tevMsg = str( message.payload.decode(\"utf-8\")  )\n",
    "\t#print(\"evMsg=\", evMsg )\n",
    "\tmsgitems = evMsg.split(\",\")\n",
    "\tv        =  float( msgitems[6] ) #X (AZIMUTH for rotation)\n",
    "\t#print(\"v=\", v )\n",
    "\tif counter\t< 20  :\n",
    "\t\tcounter = counter + 1\n",
    "\t\tdata.append( v )\n",
    "\telse  :\n",
    "\t\tplt.plot(data)\n",
    "\t\tplt.show()\n",
    "\t\tdata = []\n",
    "\t\tcounter = 0       \n",
    " \t\n",
    "    \n",
    "client= paho.Client(\"receiver\")      \n",
    "client.on_message=on_message            # Bind function to callback\n",
    "client.connect(brokerAddr)              #connect\n",
    "print(\"connected to broker \", brokerAddr)\n",
    "print(\"subscribing to unibo/qak/events\")\n",
    "client.subscribe(\"unibo/qak/events\")      #subscribe\n",
    "client.loop_start()             #start loop to process received messages\n",
    "time.sleep(duration)\n",
    "client.disconnect()             #disconnect\n",
    "print(\"bye\")\n",
    "client.loop_stop()              #stop loop        \n"
   ]
  },
  {
   "cell_type": "code",
   "execution_count": null,
   "metadata": {},
   "outputs": [],
   "source": []
  }
 ],
 "metadata": {
  "kernelspec": {
   "display_name": "Python 3",
   "language": "python",
   "name": "python3"
  },
  "language_info": {
   "codemirror_mode": {
    "name": "ipython",
    "version": 3
   },
   "file_extension": ".py",
   "mimetype": "text/x-python",
   "name": "python",
   "nbconvert_exporter": "python",
   "pygments_lexer": "ipython3",
   "version": "3.7.3"
  }
 },
 "nbformat": 4,
 "nbformat_minor": 2
}

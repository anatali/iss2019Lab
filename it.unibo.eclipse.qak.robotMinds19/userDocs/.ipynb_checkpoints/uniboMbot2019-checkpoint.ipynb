{
 "cells": [
  {
   "cell_type": "markdown",
   "metadata": {
    "slideshow": {
     "slide_type": "slide"
    }
   },
   "source": [
    "# <a name=\"Arduino\">Arduino</a> \n",
    "File <b>uniboControl.ino</b> in project <i>it.unibo.eclipse.qak.robot</i>\n",
    "\n",
    "#### Parameters\n",
    "<pre>\n",
    "float rotLeftTime  = 0.58;\n",
    "float rotRightTime = 0.58;\n",
    "float rotStepTime  = 0.058;\n",
    "</pre>\n",
    "\n",
    "The commands <tt>c(l|r)FloatNum</tt> can be used to tune these rotation values. \n",
    "However the modifications are not permanent.\n",
    "\n",
    "####  Robot-move Commands:\n",
    "<pre>\n",
    "w (119) | s(115) | a(97) | d(100) | h(104) \n",
    "l(108)  | r(114) |\n",
    "z(122)  | x(120) |\n",
    "f(102)\n",
    "</pre>\n",
    "\n",
    "Handled by the function <tt>remoteCmdExecutor()</tt>\n",
    "\n",
    "####  Loop\n",
    "<pre>\n",
    "void loop(){\n",
    "    remoteCmdExecutor();\n",
    "    lookAtSonar();\n",
    "    lineFollow();\n",
    "}\n",
    "</pre>\n"
   ]
  },
  {
   "cell_type": "markdown",
   "metadata": {
    "slideshow": {
     "slide_type": "subslide"
    }
   },
   "source": [
    "# Python\n",
    "\n",
    "<br/> \n",
    " \n",
    "<center>\n",
    "<table  style=\"width:98%\">\n",
    "  <tr style=\"border: 1px solid black\">\n",
    "        <td style=\"width:32%; text-align: left\">\n",
    "File <a href=\"RobotUsingGY521.ipynb#robotCmdExecpy\">robotCmdExec.py</a> in  project <i>it.unibo.eclipse.qak.robotMinds19</i>       \n",
    "        </td>\n",
    "        <td style=\"text-align: left\">           \n",
    "            It is used by <a href=\"http://localhost:8888/tree/resources/itunibo/robotMbot/mbotSupport.kt\">mbotSupport.kt</a> to execute the commands <tt>r|l</tt> that rotate the robot of <tt>90°</tt> and the commands <tt>z|x</tt> that rotate the robot of a small step (<tt>rotStepTime</tt> in <a href=\"#Arduino\">Arduino</a>).\n",
    "            <br/>\n",
    "TERMINATES when perceives the event: <tt>msg(rotationCmd,event,source,none,rotationCmd(endofsender), N)</tt>.\n",
    "            <br/>\n",
    "            Afterwards, it generates the event: <tt>msg(pythonEnd,event,rasp,none,pythonEnd,N) </tt>           \n",
    "            \n",
    "<br/><br/>\n",
    "See <a href=\"RobotUsingGY521.ipynb#rotate90\">rotate90</a>.\n",
    "        </td>\n",
    "    </tr>  \n",
    "\n",
    "\n",
    " \n",
    "</table>   \n",
    "</center>\n",
    " \n"
   ]
  },
  {
   "cell_type": "markdown",
   "metadata": {
    "slideshow": {
     "slide_type": "skip"
    }
   },
   "source": [
    "# Qak\n",
    "\n",
    "Overview\n",
    "\n",
    "<center>\n",
    "<img src=\"robotResourceBased.png\"  alt=\"robotResourceBased.png\" width=\"50%\" height=\"32%\"/>\n",
    "</center>\n",
    "\n",
    "\n",
    "\n",
    "<b><tt>robotmind.qak</tt></b> includes (in context <b><tt>ctxRobotMind</tt></b>):\n",
    "\n",
    "<ul>\n",
    "    <li><b><tt>QActor resourcemodel</tt></b>: represents the (CoAP-accessible ) core of the system. <br/>\n",
    "It handles the dispatch <tt> modelChange  : modelChange( TARGET, VALUE )</tt> and the dispatch <tt>modelUpdate  : modelUpdate( TARGET, VALUE )</tt>. <br/>\n",
    "emits the event <tt>local_modelChanged   : modelChanged( TARGET, VALUE )</tt> handled by <i>robotmind</i>. \n",
    "<br/><br/>\n",
    "</li>\n",
    "    \n",
    "<li><b><tt>QActor robotmind</tt></b>:  reacts to changes in the resourcemodel and to events of the world. Moreover, it actuates (by calling <i>basicrobot</i>) a robot move, when it perceives the event <tt>local_modelChanged : modelChanged(T,V)</tt>. \n",
    "<br/><br/>\n",
    "</li>\n",
    "    \n",
    "<li><b><tt>QActor onestepahead</tt></b>:  handles <tt>onestep : onestep(TIME)</tt> dispatch-request by moving the robot ahead for the time given in the request message. It uses the built-in operation <tt>replyToCaller</tt> to send the answer (dispatch) <tt>stepOk</tt> if the move is completed with success or  <tt>stepFail : stepFail(Motivation,Time)</tt> if the move has found an obstacle.\n",
    "<br/><br/>    \n",
    "</li>\n",
    "\n",
    "<li><b><tt>QActor basicrobot</tt></b>: executes a robot command by using a proper <tt>robotSupport</tt>. It is also a source of events related to the sonar on the robot.\n",
    "To make the basicrobot as independent as possible from technological details, it exploits a <tt>robotSupport.kt</tt> acting as a factory for the available <a href=\"#concreterobotSupport\">concreterobotSupport</a>.     \n",
    "<br/><br/> \n",
    "</li>\n",
    " \n",
    "\n",
    "</li>\n",
    "    <li><b><tt>QActor g521support</tt></b>: put in execution  <tt>robotCmdExec.py > cmdExecOut.txt</tt>.\n",
    "</li>\n",
    "</ul>\n",
    "\n",
    "\n",
    "### <a name=\"concreterobotSupport\">The concreterobotSupport</a>  \n",
    "Any concreterobotSupport  is a conventional object that provides an operation to send commands to a concrete robot. It creates an actor (<tt>robotDataSource.kt</tt>) acting as the source of a data-stream. \n",
    "\n",
    "The distance values emitted by the robot-sonar can be handled as a stream of data:\n",
    "\n",
    "<center>\n",
    "<img src=\"robotDataSource.png\"  alt=\"robotDataSource.png\" width=\"50%\" />\n",
    "</center>\n",
    "\n",
    "The Application Designer can subscribe to the <tt>robotDataSource</tt> one or more actors (of class <tt>ApplActorDataStream.kt</tt>) that can filter and make other elaboration on the data.\n",
    "\n",
    "<br/><br/>    \n",
    "For more details, see \n",
    "<a href=\"http://htmlpreview.github.com/?https://github.com/anatali/iss2019Lab/blob/master/it.unibo.eclipse.qak.robotMinds19/userDocs/Lab14.html\" \n",
    "target=\"code\">Lab14.html | Resource(domain) model</a>\n",
    "\n",
    " \n",
    "    "
   ]
  }
 ],
 "metadata": {
  "celltoolbar": "Slideshow",
  "kernelspec": {
   "display_name": "Python 3",
   "language": "python",
   "name": "python3"
  },
  "language_info": {
   "codemirror_mode": {
    "name": "ipython",
    "version": 3
   },
   "file_extension": ".py",
   "mimetype": "text/x-python",
   "name": "python",
   "nbconvert_exporter": "python",
   "pygments_lexer": "ipython3",
   "version": "3.7.3"
  }
 },
 "nbformat": 4,
 "nbformat_minor": 2
}
